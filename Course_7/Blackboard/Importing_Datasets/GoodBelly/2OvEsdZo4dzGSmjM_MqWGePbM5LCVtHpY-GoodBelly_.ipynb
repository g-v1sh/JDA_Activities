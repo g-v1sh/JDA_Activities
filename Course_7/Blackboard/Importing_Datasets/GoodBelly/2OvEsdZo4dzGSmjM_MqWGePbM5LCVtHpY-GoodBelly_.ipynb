{
  "cells": [
    {
      "cell_type": "code",
      "execution_count": null,
      "id": "f4d9c9eb",
      "metadata": {
        "id": "f4d9c9eb"
      },
      "outputs": [],
      "source": [
        "import pandas as pd\n",
        "import numpy as np"
      ]
    },
    {
      "cell_type": "code",
      "execution_count": null,
      "id": "beb8389f",
      "metadata": {
        "id": "beb8389f",
        "outputId": "aaf273b3-a298-4d26-b5e7-9ce2fecd04f8"
      },
      "outputs": [
        {
          "data": {
            "text/html": [
              "<div>\n",
              "<style scoped>\n",
              "    .dataframe tbody tr th:only-of-type {\n",
              "        vertical-align: middle;\n",
              "    }\n",
              "\n",
              "    .dataframe tbody tr th {\n",
              "        vertical-align: top;\n",
              "    }\n",
              "\n",
              "    .dataframe thead th {\n",
              "        text-align: right;\n",
              "    }\n",
              "</style>\n",
              "<table border=\"1\" class=\"dataframe\">\n",
              "  <thead>\n",
              "    <tr style=\"text-align: right;\">\n",
              "      <th></th>\n",
              "      <th>Date</th>\n",
              "      <th>Region</th>\n",
              "      <th>Store</th>\n",
              "      <th>Units Sold</th>\n",
              "      <th>Average Retail Price</th>\n",
              "      <th>Sales Rep</th>\n",
              "      <th>Endcap</th>\n",
              "      <th>Demo</th>\n",
              "      <th>Demo1-3</th>\n",
              "      <th>Demo4-5</th>\n",
              "      <th>Natural</th>\n",
              "      <th>Fitness</th>\n",
              "    </tr>\n",
              "  </thead>\n",
              "  <tbody>\n",
              "    <tr>\n",
              "      <th>0</th>\n",
              "      <td>2010-05-04</td>\n",
              "      <td>FL</td>\n",
              "      <td>Biscayne (aka Aventura)</td>\n",
              "      <td>150.702088</td>\n",
              "      <td>4.390000</td>\n",
              "      <td>0</td>\n",
              "      <td>0</td>\n",
              "      <td>0</td>\n",
              "      <td>0</td>\n",
              "      <td>0</td>\n",
              "      <td>1</td>\n",
              "      <td>0</td>\n",
              "    </tr>\n",
              "    <tr>\n",
              "      <th>1</th>\n",
              "      <td>2010-05-11</td>\n",
              "      <td>FL</td>\n",
              "      <td>Biscayne (aka Aventura)</td>\n",
              "      <td>197.403797</td>\n",
              "      <td>3.997692</td>\n",
              "      <td>0</td>\n",
              "      <td>0</td>\n",
              "      <td>0</td>\n",
              "      <td>0</td>\n",
              "      <td>0</td>\n",
              "      <td>1</td>\n",
              "      <td>0</td>\n",
              "    </tr>\n",
              "    <tr>\n",
              "      <th>2</th>\n",
              "      <td>2010-05-18</td>\n",
              "      <td>FL</td>\n",
              "      <td>Biscayne (aka Aventura)</td>\n",
              "      <td>235.106172</td>\n",
              "      <td>3.809231</td>\n",
              "      <td>0</td>\n",
              "      <td>0</td>\n",
              "      <td>0</td>\n",
              "      <td>0</td>\n",
              "      <td>0</td>\n",
              "      <td>1</td>\n",
              "      <td>0</td>\n",
              "    </tr>\n",
              "    <tr>\n",
              "      <th>3</th>\n",
              "      <td>2010-05-25</td>\n",
              "      <td>FL</td>\n",
              "      <td>Biscayne (aka Aventura)</td>\n",
              "      <td>226.692427</td>\n",
              "      <td>3.835000</td>\n",
              "      <td>0</td>\n",
              "      <td>0</td>\n",
              "      <td>0</td>\n",
              "      <td>0</td>\n",
              "      <td>0</td>\n",
              "      <td>1</td>\n",
              "      <td>0</td>\n",
              "    </tr>\n",
              "    <tr>\n",
              "      <th>4</th>\n",
              "      <td>2010-06-01</td>\n",
              "      <td>FL</td>\n",
              "      <td>Biscayne (aka Aventura)</td>\n",
              "      <td>257.688151</td>\n",
              "      <td>3.902500</td>\n",
              "      <td>0</td>\n",
              "      <td>0</td>\n",
              "      <td>0</td>\n",
              "      <td>0</td>\n",
              "      <td>0</td>\n",
              "      <td>1</td>\n",
              "      <td>0</td>\n",
              "    </tr>\n",
              "  </tbody>\n",
              "</table>\n",
              "</div>"
            ],
            "text/plain": [
              "        Date Region                    Store  Units Sold  \\\n",
              "0 2010-05-04     FL  Biscayne (aka Aventura)  150.702088   \n",
              "1 2010-05-11     FL  Biscayne (aka Aventura)  197.403797   \n",
              "2 2010-05-18     FL  Biscayne (aka Aventura)  235.106172   \n",
              "3 2010-05-25     FL  Biscayne (aka Aventura)  226.692427   \n",
              "4 2010-06-01     FL  Biscayne (aka Aventura)  257.688151   \n",
              "\n",
              "   Average Retail Price  Sales Rep  Endcap  Demo  Demo1-3  Demo4-5  Natural  \\\n",
              "0              4.390000          0       0     0        0        0        1   \n",
              "1              3.997692          0       0     0        0        0        1   \n",
              "2              3.809231          0       0     0        0        0        1   \n",
              "3              3.835000          0       0     0        0        0        1   \n",
              "4              3.902500          0       0     0        0        0        1   \n",
              "\n",
              "   Fitness  \n",
              "0        0  \n",
              "1        0  \n",
              "2        0  \n",
              "3        0  \n",
              "4        0  "
            ]
          },
          "execution_count": 3,
          "metadata": {},
          "output_type": "execute_result"
        }
      ],
      "source": [
        "path='C:\\\\Users\\\\LENOVO\\\\Desktop\\\\NPOWER Materials\\\\Vancouver resources\\\\Course 7\\\\Week 1\\GoodBelly-DataSet-Regression.xlsx'\n",
        "df=pd.read_excel(path)\n",
        "df.head()"
      ]
    },
    {
      "cell_type": "code",
      "execution_count": null,
      "id": "12123e22",
      "metadata": {
        "id": "12123e22"
      },
      "outputs": [],
      "source": [
        "#Q1 - Give summary of numeric type of columns in dataset?"
      ]
    },
    {
      "cell_type": "code",
      "execution_count": null,
      "id": "13283b1d",
      "metadata": {
        "id": "13283b1d"
      },
      "outputs": [],
      "source": [
        "#Q2 Calc STD of columns in dataset"
      ]
    },
    {
      "cell_type": "code",
      "execution_count": null,
      "id": "7c71300a",
      "metadata": {
        "id": "7c71300a"
      },
      "outputs": [],
      "source": [
        "#Q3 mean of first 50 records in dataset"
      ]
    },
    {
      "cell_type": "code",
      "execution_count": null,
      "id": "6a5e7d11",
      "metadata": {
        "id": "6a5e7d11"
      },
      "outputs": [],
      "source": [
        "#Q4 What are thecolumn names"
      ]
    },
    {
      "cell_type": "code",
      "execution_count": null,
      "id": "d34a7891",
      "metadata": {
        "id": "d34a7891"
      },
      "outputs": [],
      "source": [
        "#Q - Number of elements in dataset"
      ]
    },
    {
      "cell_type": "code",
      "execution_count": null,
      "id": "0b111e99",
      "metadata": {
        "id": "0b111e99"
      },
      "outputs": [],
      "source": [
        "#Q- No. of records this dataset has"
      ]
    },
    {
      "cell_type": "code",
      "execution_count": null,
      "id": "428747b0",
      "metadata": {
        "id": "428747b0"
      },
      "outputs": [],
      "source": [
        "#Q type of column dataset has"
      ]
    },
    {
      "cell_type": "code",
      "execution_count": null,
      "id": "21f7c0cd",
      "metadata": {
        "id": "21f7c0cd"
      },
      "outputs": [],
      "source": []
    }
  ],
  "metadata": {
    "kernelspec": {
      "display_name": "Python 3 (ipykernel)",
      "language": "python",
      "name": "python3"
    },
    "language_info": {
      "codemirror_mode": {
        "name": "ipython",
        "version": 3
      },
      "file_extension": ".py",
      "mimetype": "text/x-python",
      "name": "python",
      "nbconvert_exporter": "python",
      "pygments_lexer": "ipython3",
      "version": "3.9.7"
    },
    "colab": {
      "provenance": []
    }
  },
  "nbformat": 4,
  "nbformat_minor": 5
}