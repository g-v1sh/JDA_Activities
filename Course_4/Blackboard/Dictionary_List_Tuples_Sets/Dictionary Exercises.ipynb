{
 "cells": [
  {
   "cell_type": "markdown",
   "metadata": {},
   "source": [
    "# Python Dictionary Exercises"
   ]
  },
  {
   "cell_type": "code",
   "execution_count": 66,
   "metadata": {},
   "outputs": [
    {
     "data": {
      "text/plain": [
       "{'A': ('Abdoalnaser', 'Anitta', 'Anjali'),\n",
       " 'C': 'NA',\n",
       " 'D': 'Dishant',\n",
       " 'G': ('Garvish', 'Gurjot'),\n",
       " 'I': 'NA',\n",
       " 'J': 'NA',\n",
       " 'K': ('Kamrul', 'Kevin'),\n",
       " 'M': 'NA'}"
      ]
     },
     "execution_count": 66,
     "metadata": {},
     "output_type": "execute_result"
    }
   ],
   "source": [
    "#Q1 Create a dictionary for all participants in the JDA program.\n",
    "#Keys should be the first letter in their names, \n",
    "#Values should be their names.\n",
    "#[Hint] dic={\"l\":(Leul),\"J\":(Jerry,Jainam)........}\n",
    "\n",
    "dic={'A':(\"Abdoalnaser\",\"Anitta\",\"Anjali\"),'C':('NA'),'D':(\"Dishant\"),'G':(\"Garvish\",\"Gurjot\"),'I':('NA'),'J':('NA'),'K':(\"Kamrul\",\"Kevin\"),'M':('NA')}\n",
    "dic"
   ]
  },
  {
   "cell_type": "code",
   "execution_count": 67,
   "metadata": {},
   "outputs": [
    {
     "data": {
      "text/plain": [
       "dict_keys(['A', 'C', 'D', 'G', 'I', 'J', 'K', 'M'])"
      ]
     },
     "execution_count": 67,
     "metadata": {},
     "output_type": "execute_result"
    }
   ],
   "source": [
    "#Q2 What are the keys of your dictionary\n",
    "dic.keys()"
   ]
  },
  {
   "cell_type": "code",
   "execution_count": 47,
   "metadata": {},
   "outputs": [
    {
     "data": {
      "text/plain": [
       "dict_values([('Abdoalnaser', 'Anitta', 'Anjali'), 'NA', 'Dishant', ('Garvish', 'Gurjot'), 'NA', 'NA', ('Kamrul', 'Kevin'), 'NA'])"
      ]
     },
     "execution_count": 47,
     "metadata": {},
     "output_type": "execute_result"
    }
   ],
   "source": [
    "#Q3 What are the values of your dictionary\n",
    "dic.values()"
   ]
  },
  {
   "cell_type": "code",
   "execution_count": 68,
   "metadata": {},
   "outputs": [
    {
     "data": {
      "text/plain": [
       "('NA', 'NA', 'NA', 'NA', ('Abdoalnaser', 'Anitta', 'Anjali'))"
      ]
     },
     "execution_count": 68,
     "metadata": {},
     "output_type": "execute_result"
    }
   ],
   "source": [
    "#Q4 Find participant's names that start with J,I,M,C,A\n",
    "dic['J'],dic['I'],dic['M'],dic['C'],dic['A']"
   ]
  },
  {
   "cell_type": "code",
   "execution_count": 69,
   "metadata": {},
   "outputs": [
    {
     "data": {
      "text/plain": [
       "('Kristina', 'Kristina')"
      ]
     },
     "execution_count": 69,
     "metadata": {},
     "output_type": "execute_result"
    }
   ],
   "source": [
    "#Q5 Add the following to your dictionary \n",
    "# Key<(K,PD)>, Value<(Kristina)>\n",
    "dic['K'] = 'Kristina'\n",
    "dic['PD']= 'Kristina'\n",
    "\n",
    "dic['K'],dic['PD']"
   ]
  },
  {
   "cell_type": "code",
   "execution_count": 70,
   "metadata": {},
   "outputs": [
    {
     "data": {
      "text/plain": [
       "9"
      ]
     },
     "execution_count": 70,
     "metadata": {},
     "output_type": "execute_result"
    }
   ],
   "source": [
    "#Q6 Find the length of your dictionary  \n",
    "len(dic)"
   ]
  },
  {
   "cell_type": "code",
   "execution_count": 71,
   "metadata": {},
   "outputs": [
    {
     "data": {
      "text/plain": [
       "('Sarah', 'Sarah')"
      ]
     },
     "execution_count": 71,
     "metadata": {},
     "output_type": "execute_result"
    }
   ],
   "source": [
    "#Q7 Add the following to your dictionary \n",
    "# Key<(S,Instructor)>, Value<(Sarah)>\n",
    "\n",
    "dic['S'] = 'Sarah'\n",
    "dic['Instructor']= 'Sarah'\n",
    "\n",
    "dic['S'],dic['Instructor']"
   ]
  },
  {
   "cell_type": "code",
   "execution_count": 72,
   "metadata": {},
   "outputs": [
    {
     "data": {
      "text/plain": [
       "11"
      ]
     },
     "execution_count": 72,
     "metadata": {},
     "output_type": "execute_result"
    }
   ],
   "source": [
    "#Q8 Find the length of your dictionary\n",
    "len(dic)  "
   ]
  },
  {
   "cell_type": "code",
   "execution_count": 73,
   "metadata": {},
   "outputs": [],
   "source": [
    "#Q7 Delete the following keys from your dictionary \n",
    "#Key<(S,Instructor)>\n",
    "#Key<J>\n",
    "del(dic['S'],dic['Instructor'])\n",
    "del(dic['J'])"
   ]
  },
  {
   "cell_type": "code",
   "execution_count": 74,
   "metadata": {},
   "outputs": [
    {
     "data": {
      "text/plain": [
       "8"
      ]
     },
     "execution_count": 74,
     "metadata": {},
     "output_type": "execute_result"
    }
   ],
   "source": [
    "#Q9 Find the length of your dictionary  \n",
    "len(dic)"
   ]
  },
  {
   "cell_type": "code",
   "execution_count": 99,
   "metadata": {},
   "outputs": [],
   "source": [
    "#Q10 Create a new dictionary called synonyms_dic\n",
    "synonyms_dic={}"
   ]
  },
  {
   "cell_type": "code",
   "execution_count": 104,
   "metadata": {},
   "outputs": [
    {
     "name": "stdout",
     "output_type": "stream",
     "text": [
      "dict_keys(['Bad', 'Awesome', 'Easy', 'Big'])\n",
      "dict_values(['Good', 'Cold', 'Hard', 'Small'])\n"
     ]
    }
   ],
   "source": [
    "#Q11 Add the synonyms of the following words to your dictionary \n",
    "#Bad, Good, Awesome, Cold, Easy, Hard, Big, Small\n",
    "synonyms_dic={'Bad':'Good', 'Awesome':'Cold', 'Easy':'Hard', 'Big':'Small'}\n",
    "print(synonyms_dic.keys())\n",
    "print(synonyms_dic.values())"
   ]
  },
  {
   "cell_type": "code",
   "execution_count": 101,
   "metadata": {},
   "outputs": [
    {
     "name": "stdout",
     "output_type": "stream",
     "text": [
      "Cold\n",
      "Big\n",
      "Awesome\n"
     ]
    },
    {
     "ename": "KeyError",
     "evalue": "'Old'",
     "output_type": "error",
     "traceback": [
      "\u001b[0;31m---------------------------------------------------------------------------\u001b[0m",
      "\u001b[0;31mKeyError\u001b[0m                                  Traceback (most recent call last)",
      "Cell \u001b[0;32mIn[101], line 7\u001b[0m\n\u001b[1;32m      5\u001b[0m \u001b[38;5;28mprint\u001b[39m(\u001b[38;5;28mlist\u001b[39m(synonyms_dic\u001b[38;5;241m.\u001b[39mkeys()) [\u001b[38;5;28mlist\u001b[39m(synonyms_dic\u001b[38;5;241m.\u001b[39mvalues())\u001b[38;5;241m.\u001b[39mindex(\u001b[38;5;124m'\u001b[39m\u001b[38;5;124mSmall\u001b[39m\u001b[38;5;124m'\u001b[39m)])\n\u001b[1;32m      6\u001b[0m \u001b[38;5;28mprint\u001b[39m(\u001b[38;5;28mlist\u001b[39m(synonyms_dic\u001b[38;5;241m.\u001b[39mkeys()) [\u001b[38;5;28mlist\u001b[39m(synonyms_dic\u001b[38;5;241m.\u001b[39mvalues())\u001b[38;5;241m.\u001b[39mindex(\u001b[38;5;124m'\u001b[39m\u001b[38;5;124mCold\u001b[39m\u001b[38;5;124m'\u001b[39m)])\n\u001b[0;32m----> 7\u001b[0m \u001b[38;5;28mprint\u001b[39m(\u001b[43msynonyms_dic\u001b[49m\u001b[43m[\u001b[49m\u001b[38;5;124;43m'\u001b[39;49m\u001b[38;5;124;43mOld\u001b[39;49m\u001b[38;5;124;43m'\u001b[39;49m\u001b[43m]\u001b[49m)\n",
      "\u001b[0;31mKeyError\u001b[0m: 'Old'"
     ]
    }
   ],
   "source": [
    "#Q12 Use your dictionary to find the synonym of the following words \n",
    "# Awesome, Easy, Small, Old\n",
    "\n",
    "print(synonyms_dic['Awesome'])\n",
    "print(list(synonyms_dic.keys()) [list(synonyms_dic.values()).index('Small')])\n",
    "print(list(synonyms_dic.keys()) [list(synonyms_dic.values()).index('Cold')])\n",
    "print(synonyms_dic['Old'])"
   ]
  },
  {
   "cell_type": "code",
   "execution_count": 106,
   "metadata": {},
   "outputs": [],
   "source": [
    "#Q13 Delete everything from synonyms_dic\n",
    "synonyms_dic.clear()"
   ]
  },
  {
   "cell_type": "code",
   "execution_count": 107,
   "metadata": {},
   "outputs": [
    {
     "data": {
      "text/plain": [
       "dict_values([])"
      ]
     },
     "execution_count": 107,
     "metadata": {},
     "output_type": "execute_result"
    }
   ],
   "source": [
    "#Q14 Print all values in synonyms_dic\n",
    "synonyms_dic.values()"
   ]
  },
  {
   "cell_type": "code",
   "execution_count": 113,
   "metadata": {},
   "outputs": [
    {
     "data": {
      "text/plain": [
       "{'True': 1, 'False': 0}"
      ]
     },
     "execution_count": 113,
     "metadata": {},
     "output_type": "execute_result"
    }
   ],
   "source": [
    "#Q15 Convert the below two lists into dictionary\n",
    "Keys=[\"True\",\"False\"]\n",
    "Values=[1,0]\n",
    "\n",
    "binary_dic={Keys[0]:Values[0],Keys[1]:Values[1]}\n",
    "binary_dic"
   ]
  },
  {
   "cell_type": "code",
   "execution_count": 110,
   "metadata": {},
   "outputs": [
    {
     "data": {
      "text/plain": [
       "4480"
      ]
     },
     "execution_count": 110,
     "metadata": {},
     "output_type": "execute_result"
    }
   ],
   "source": [
    "#Q16 Sum all the values in the following dictionary\n",
    "income={'Jan':1000,'Feb':1500,'Mar':980,'April':1000}\n",
    "sum(income.values())\n"
   ]
  },
  {
   "cell_type": "code",
   "execution_count": 119,
   "metadata": {},
   "outputs": [
    {
     "name": "stdout",
     "output_type": "stream",
     "text": [
      "I\n",
      "am\n",
      "hungry\n",
      ",\n",
      "I\n",
      "want\n",
      "to\n",
      "eat\n"
     ]
    }
   ],
   "source": [
    "#Q17 Create the following dictionary \n",
    "encryption={10:\"hungry\",101:\"am\",110:\"I\",1011:\",\",1101:\"eat\",1001:\"want\",111:\"to\"}\n",
    "\n",
    "# What should be the decryption of the following code \n",
    "decode = (110, 101, 10, 1011, 110, 1001, 111, 1101)\n",
    "\n",
    "for x in decode:\n",
    "    print(encryption[x])"
   ]
  }
 ],
 "metadata": {
  "kernelspec": {
   "display_name": "Python 3 (ipykernel)",
   "language": "python",
   "name": "python3"
  },
  "language_info": {
   "codemirror_mode": {
    "name": "ipython",
    "version": 3
   },
   "file_extension": ".py",
   "mimetype": "text/x-python",
   "name": "python",
   "nbconvert_exporter": "python",
   "pygments_lexer": "ipython3",
   "version": "3.9.6"
  }
 },
 "nbformat": 4,
 "nbformat_minor": 4
}
