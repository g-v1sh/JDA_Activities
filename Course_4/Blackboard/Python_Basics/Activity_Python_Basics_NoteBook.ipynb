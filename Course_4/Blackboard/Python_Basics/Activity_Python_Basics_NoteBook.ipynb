{
 "cells": [
  {
   "cell_type": "markdown",
   "metadata": {},
   "source": [
    "# Python Basics NoteBook"
   ]
  },
  {
   "cell_type": "code",
   "execution_count": 3,
   "metadata": {},
   "outputs": [
    {
     "name": "stdout",
     "output_type": "stream",
     "text": [
      "3.9.6 (default, Nov 10 2023, 13:38:27) \n",
      "[Clang 15.0.0 (clang-1500.1.0.2.5)]\n"
     ]
    }
   ],
   "source": [
    "#Write a Python code to return your Python version\n",
    "#!python --version\n",
    "import sys\n",
    "print(sys.version)"
   ]
  },
  {
   "cell_type": "code",
   "execution_count": 4,
   "metadata": {},
   "outputs": [
    {
     "name": "stdout",
     "output_type": "stream",
     "text": [
      "513\n"
     ]
    }
   ],
   "source": [
    "#Write a Python code to declare variable id=\"513\". \n",
    "#Print the following statement \"customer id =513\". [Don't use print(\"customer id =513\")]\n",
    "id =\"513\"\n",
    "print(\"customer id =\"+id)"
   ]
  },
  {
   "cell_type": "code",
   "execution_count": 8,
   "metadata": {},
   "outputs": [
    {
     "name": "stdout",
     "output_type": "stream",
     "text": [
      "513\n"
     ]
    }
   ],
   "source": [
    "#Run the following statement, why there is an error\n",
    "\n",
    "print(id)\n",
    "#variable id is not defined"
   ]
  },
  {
   "cell_type": "code",
   "execution_count": 9,
   "metadata": {},
   "outputs": [
    {
     "name": "stdout",
     "output_type": "stream",
     "text": [
      "514\n"
     ]
    }
   ],
   "source": [
    "#Convert the variable id into an integer, increment it by 1.\n",
    "#Assign the result to variable new_id.\n",
    "#Print the new_id\n",
    "\n",
    "#id =\"513\"\n",
    "id = int(id)+1\n",
    "new_id = id\n",
    "print(new_id)"
   ]
  },
  {
   "cell_type": "code",
   "execution_count": 24,
   "metadata": {},
   "outputs": [
    {
     "name": "stdout",
     "output_type": "stream",
     "text": [
      "Twinkle, twinkle, little star,\n",
      "    How I wonder what you are!\n",
      "       Up above the world so high,\n",
      "           Like a diamond in the sky.\n"
     ]
    }
   ],
   "source": [
    "#Write a Python code to print the following string in a specific format (see the output). \n",
    "\n",
    "# Twinkle, twinkle, little star, \n",
    "#     How I wonder what you are! \n",
    "#        Up above the world so high, \n",
    "#            Like a diamond in the sky.\n",
    "\n",
    "print(\"Twinkle, twinkle, little star,\"+\"\\n    How I wonder what you are!\"+\"\\n       Up above the world so high,\"+\"\\n           Like a diamond in the sky.\")"
   ]
  },
  {
   "cell_type": "code",
   "execution_count": 25,
   "metadata": {},
   "outputs": [
    {
     "name": "stdout",
     "output_type": "stream",
     "text": [
      "P\n"
     ]
    }
   ],
   "source": [
    "#Givin the following string variable, # Print the first element in the string\n",
    "course=\"Python for Data Science\"\n",
    "print(course[0])"
   ]
  },
  {
   "cell_type": "code",
   "execution_count": 26,
   "metadata": {},
   "outputs": [
    {
     "name": "stdout",
     "output_type": "stream",
     "text": [
      "t\n"
     ]
    }
   ],
   "source": [
    "# Print the element on the 13th index in the string\n",
    "course=\"Python for Data Science\"\n",
    "print(course[13])"
   ]
  },
  {
   "cell_type": "code",
   "execution_count": 27,
   "metadata": {},
   "outputs": [
    {
     "data": {
      "text/plain": [
       "23"
      ]
     },
     "execution_count": 27,
     "metadata": {},
     "output_type": "execute_result"
    }
   ],
   "source": [
    "# Find the length of string\n",
    "course=\"Python for Data Science\"\n",
    "len(course)"
   ]
  },
  {
   "cell_type": "code",
   "execution_count": 28,
   "metadata": {},
   "outputs": [
    {
     "name": "stdout",
     "output_type": "stream",
     "text": [
      "e\n"
     ]
    }
   ],
   "source": [
    "# Print the last element in the string [use negative index]\n",
    "course=\"Python for Data Science\"\n",
    "print(course[-1])"
   ]
  },
  {
   "cell_type": "code",
   "execution_count": 29,
   "metadata": {},
   "outputs": [
    {
     "name": "stdout",
     "output_type": "stream",
     "text": [
      "Dat\n"
     ]
    }
   ],
   "source": [
    "# Take the slice on variable course with only index 11 to index 14\n",
    "course = \"Python for Data Science\"\n",
    "print(course[11:14])"
   ]
  },
  {
   "cell_type": "code",
   "execution_count": 18,
   "metadata": {},
   "outputs": [
    {
     "name": "stdout",
     "output_type": "stream",
     "text": [
      "Python for Data Scien\n",
      "\n",
      "h\n",
      " \n",
      "r\n",
      "a\n",
      " \n",
      "i\n"
     ]
    }
   ],
   "source": [
    "# Get every third element in the range from index 0 to index 20\n",
    "course = \"Python for Data Science\"\n",
    "print(course[0:21]+\"\\n\")\n",
    "for i in range(3, 21, 3):\n",
    "  print(course[i])"
   ]
  },
  {
   "cell_type": "code",
   "execution_count": 30,
   "metadata": {},
   "outputs": [
    {
     "name": "stdout",
     "output_type": "stream",
     "text": [
      "Python for Data Science AI & Development\n"
     ]
    }
   ],
   "source": [
    "# Concatenate course string with \", AI & Development\"\n",
    "course =\"Python for Data Science\"\n",
    "course += \" AI & Development\"\n",
    "print(course)"
   ]
  },
  {
   "cell_type": "code",
   "execution_count": 31,
   "metadata": {},
   "outputs": [
    {
     "name": "stdout",
     "output_type": "stream",
     "text": [
      "Python_for_Data_Science_AI_&_Development\n"
     ]
    }
   ],
   "source": [
    "# Replace all the spaces with (_). New string should looks like\"Python_for_Data_Science,_AI_&_Development\"\n",
    "course=\"Python for Data Science AI & Development\"\n",
    "print(course.replace(\" \",\"_\"))"
   ]
  },
  {
   "cell_type": "code",
   "execution_count": 32,
   "metadata": {},
   "outputs": [
    {
     "name": "stdout",
     "output_type": "stream",
     "text": [
      "PYTHON FOR DATA SCIENCE AI & DEVELOPMENT\n"
     ]
    }
   ],
   "source": [
    "# Convert all the characters in string to upper case\n",
    "course=\"Python for Data Science AI & Development\"\n",
    "print(course.upper())"
   ]
  }
 ],
 "metadata": {
  "kernelspec": {
   "display_name": "Python 3 (ipykernel)",
   "language": "python",
   "name": "python3"
  },
  "language_info": {
   "codemirror_mode": {
    "name": "ipython",
    "version": 3
   },
   "file_extension": ".py",
   "mimetype": "text/x-python",
   "name": "python",
   "nbconvert_exporter": "python",
   "pygments_lexer": "ipython3",
   "version": "3.9.6"
  }
 },
 "nbformat": 4,
 "nbformat_minor": 4
}
